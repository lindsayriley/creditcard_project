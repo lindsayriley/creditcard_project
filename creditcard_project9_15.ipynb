{
  "cells": [
    {
      "cell_type": "code",
      "execution_count": 17,
      "id": "4eb685aa-e65a-47ac-834a-83b0ee6d33e7",
      "metadata": {
        "id": "4eb685aa-e65a-47ac-834a-83b0ee6d33e7"
      },
      "outputs": [],
      "source": [
        "#!pip install pandas\n",
        "#!pip install numpy\n",
        "#!pip install matplotlib\n",
        "#!pip install scikit-learn\n",
        "#!pip install xlrd\n",
        "#!pip install -U imbalanced-learn"
      ]
    },
    {
      "cell_type": "code",
      "execution_count": 18,
      "id": "e2dcccad-9e92-4a46-967d-8a5dff924ad8",
      "metadata": {
        "tags": [],
        "colab": {
          "base_uri": "https://localhost:8080/"
        },
        "id": "e2dcccad-9e92-4a46-967d-8a5dff924ad8",
        "outputId": "41651081-20ad-4030-b2b5-fb1b5cd3e32a"
      },
      "outputs": [
        {
          "output_type": "stream",
          "name": "stdout",
          "text": [
            "Drive already mounted at /content/drive; to attempt to forcibly remount, call drive.mount(\"/content/drive\", force_remount=True).\n"
          ]
        }
      ],
      "source": [
        "import matplotlib.pyplot as plt\n",
        "import numpy as np\n",
        "import pandas as pd\n",
        "import random\n",
        "# import xlrd\n",
        "\n",
        "from sklearn.metrics import classification_report\n",
        "from sklearn.dummy import DummyClassifier\n",
        "from sklearn.model_selection import train_test_split\n",
        "from sklearn.linear_model import LogisticRegressionCV\n",
        "from sklearn.preprocessing import StandardScaler\n",
        "from sklearn.pipeline import make_pipeline\n",
        "from sklearn.svm import SVC\n",
        "from sklearn.ensemble import RandomForestClassifier\n",
        "from sklearn.model_selection import GridSearchCV\n",
        "from sklearn.decomposition import PCA\n",
        "from imblearn.over_sampling import SMOTE\n",
        "from google.colab import drive\n",
        "\n",
        "drive.mount(\"/content/drive\")"
      ]
    },
    {
      "cell_type": "markdown",
      "id": "2405a7bf-4dc0-41d6-9f60-38cefd9e4ea0",
      "metadata": {
        "id": "2405a7bf-4dc0-41d6-9f60-38cefd9e4ea0"
      },
      "source": [
        "# Import Data\n",
        "\n",
        "I am importing the data from Excel, then reporting a quick snapshot of the absolute number of defaults (6636) and non-defaults (23364), as well as the proportion of defaults (22%). Almost a fourth of individuals from this dataset default. For training, I save the attribute data into a variable, `X`, where I remove the impertinent ID column, and the label data is saved in a variable, `y_true`. The first few rows of these dataset are outputted for confirmation."
      ]
    },
    {
      "cell_type": "code",
      "execution_count": 4,
      "id": "02b410a5-baf7-4b67-a303-b3de3179ba52",
      "metadata": {
        "tags": [],
        "colab": {
          "base_uri": "https://localhost:8080/"
        },
        "id": "02b410a5-baf7-4b67-a303-b3de3179ba52",
        "outputId": "147e51e6-e343-4b14-ba4b-fee74c82f280"
      },
      "outputs": [
        {
          "output_type": "stream",
          "name": "stdout",
          "text": [
            "# Default:     6636\n",
            "# Repaid:     23364\n",
            "% Defaulters:  0.22\n",
            "\n",
            "Attribute Data:\n",
            "\n",
            "   LIMIT_BAL  SEX  EDUCATION  MARRIAGE  AGE  PAY_0  PAY_2  PAY_3  PAY_4  \\\n",
            "0      20000    2          2         1   24      2      2     -1     -1   \n",
            "1     120000    2          2         2   26     -1      2      0      0   \n",
            "2      90000    2          2         2   34      0      0      0      0   \n",
            "3      50000    2          2         1   37      0      0      0      0   \n",
            "4      50000    1          2         1   57     -1      0     -1      0   \n",
            "\n",
            "   PAY_5  ...  BILL_AMT3  BILL_AMT4  BILL_AMT5  BILL_AMT6  PAY_AMT1  PAY_AMT2  \\\n",
            "0     -2  ...        689          0          0          0         0       689   \n",
            "1      0  ...       2682       3272       3455       3261         0      1000   \n",
            "2      0  ...      13559      14331      14948      15549      1518      1500   \n",
            "3      0  ...      49291      28314      28959      29547      2000      2019   \n",
            "4      0  ...      35835      20940      19146      19131      2000     36681   \n",
            "\n",
            "   PAY_AMT3  PAY_AMT4  PAY_AMT5  PAY_AMT6  \n",
            "0         0         0         0         0  \n",
            "1      1000      1000         0      2000  \n",
            "2      1000      1000      1000      5000  \n",
            "3      1200      1100      1069      1000  \n",
            "4     10000      9000       689       679  \n",
            "\n",
            "[5 rows x 23 columns]\n",
            "\n",
            "Label Data:\n",
            "\n",
            "0    1\n",
            "1    1\n",
            "2    0\n",
            "3    0\n",
            "4    0\n",
            "Name: default payment next month, dtype: int64\n"
          ]
        }
      ],
      "source": [
        "# import dataset\n",
        "#data = pd.read_excel('./default of credit card clients.xls', header=1)\n",
        "data = pd.read_excel('/content/drive/MyDrive/Colab Notebooks/default of credit card clients.xls', header=1)\n",
        "num_default = data['default payment next month'].sum()\n",
        "num_no_default = data.shape[0] - num_default\n",
        "default_ratio = num_default / (num_no_default + num_default)\n",
        "print(f\"# Default: {num_default:>8}\\n# Repaid:  {num_no_default:>8}\\n% Defaulters: {default_ratio:>5.2f}\\n\")\n",
        "\n",
        "# assign variables\n",
        "X = data.drop(['ID','default payment next month'], axis='columns') # removing ID column\n",
        "y_true = data['default payment next month']\n",
        "print(f\"Attribute Data:\\n\\n{X.head()}\\n\\nLabel Data:\\n\\n{y_true.head()}\")"
      ]
    },
    {
      "cell_type": "markdown",
      "id": "239fd373-505d-4e99-b6f8-6156b6ca7049",
      "metadata": {
        "id": "239fd373-505d-4e99-b6f8-6156b6ca7049"
      },
      "source": [
        "# Implementing ML Algorithms to Predict Defaults\n",
        "\n",
        "For my analysis, I take advantage of the scikit-learn library in Python. For all methods, I split my dataset into 80% training data and 20% test data. I chose not to work with a validation set; however, I implement certain methods that utilize built-in cross-validation, which breaks up the training dataset into mini validation sets."
      ]
    },
    {
      "cell_type": "markdown",
      "source": [
        "# Addressing Data Imbalance\n",
        "\n",
        "As reported above, the proportion of defaulters is 22%, while the proportion of non-defaulters is 78%. This imbalance in the data can lead to majority bias that can skew accuracy and recall metrics. To address this, I include a function, `generate_balanced_data`, that can be used to 'balance' the data by generating synthetic 'default' observations via interpolation. I ended up running through the code first without using this function for Logistica Regression, SVC, and Random Forest, then re-running the code using the function, for comparison.\n",
        "\n",
        "**Note**: The run outputs displayed in the document and subsequent discussion are for the original (non-balanced) case. Imbalanced results are discussed at the end."
      ],
      "metadata": {
        "id": "WJjcy0ZjR-wx"
      },
      "id": "WJjcy0ZjR-wx"
    },
    {
      "cell_type": "code",
      "source": [
        "def generate_balanced_data(X, y_true, balance_data):\n",
        "    if not balance_data:\n",
        "        return train_test_split(X, y_true, test_size=0.2, random_state=25)\n",
        "    else:\n",
        "        # split data\n",
        "        X_train_l_pre, X_test_l, y_train_l_pre, y_test_l = train_test_split(X, y_true, test_size=0.2, random_state=25)\n",
        "\n",
        "        # apply SMOTE\n",
        "        sm_l = SMOTE(random_state=25)\n",
        "        X_train_l, y_train_l = sm_l.fit_resample(X_train_l_pre, y_train_l_pre)\n",
        "\n",
        "        tot_before = sum(y_train_l_pre == 1)\n",
        "        tot_after = sum(y_train_l == 1)\n",
        "        print(f\"# default (before): {tot_before}\")\n",
        "        print(f\"# default (after): {tot_after}\\n\")\n",
        "\n",
        "        return X_train_l, X_test_l, y_train_l, y_test_l"
      ],
      "metadata": {
        "id": "Avk9Eip6I6dV"
      },
      "id": "Avk9Eip6I6dV",
      "execution_count": 37,
      "outputs": []
    },
    {
      "cell_type": "markdown",
      "id": "593ba514-2afb-44ad-b545-2b04c873ef6a",
      "metadata": {
        "id": "593ba514-2afb-44ad-b545-2b04c873ef6a"
      },
      "source": [
        "# Dummy Classifier (baseline)\n",
        "\n",
        "I start by implementing a Dummy Classifier to serve as a baseline method against which to compare other methods. The Dummy Classifier generates the prediction of 0 or 1 at random, so we anticipate ~50% accuracy. I chose a `random_state=25`, which is the seed for the random number generator so the same results should be produced at each run. As expected, we see the training accuracy is 0.4966, which is ~50% accuracy."
      ]
    },
    {
      "cell_type": "code",
      "execution_count": null,
      "id": "d211763f-417f-4946-a7f7-d28d1847578d",
      "metadata": {
        "tags": [],
        "colab": {
          "base_uri": "https://localhost:8080/"
        },
        "id": "d211763f-417f-4946-a7f7-d28d1847578d",
        "outputId": "976f08aa-5cc7-483c-9204-00a49fc2ecaa"
      },
      "outputs": [
        {
          "output_type": "stream",
          "name": "stdout",
          "text": [
            "Training Accuracy: 0.4966 \n",
            "\n",
            "Test Metrics:\n",
            "               precision    recall  f1-score   support\n",
            "\n",
            "           0     0.7860    0.4977    0.6095      4649\n",
            "           1     0.2359    0.5337    0.3272      1351\n",
            "\n",
            "    accuracy                         0.5058      6000\n",
            "   macro avg     0.5110    0.5157    0.4684      6000\n",
            "weighted avg     0.6621    0.5058    0.5459      6000\n",
            "\n"
          ]
        }
      ],
      "source": [
        "# split data\n",
        "X_train_d, X_test_d, y_train_d, y_test_d = train_test_split(X, y_true, test_size=0.2, random_state=25)\n",
        "\n",
        "# train\n",
        "baseline = DummyClassifier(strategy='uniform')\n",
        "baseline.fit(X_train_d,y_train_d)\n",
        "accuracy_train_d = baseline.score(X_train_d, y_train_d)\n",
        "print(f\"Training Accuracy: {accuracy_train_d:0.4f} \\n\")\n",
        "\n",
        "# test\n",
        "y_pred_d = baseline.predict(X_test_d)\n",
        "report_d = classification_report(y_test_d.to_numpy(), y_pred_d, digits=4)\n",
        "print(f\"Test Metrics:\\n {report_d}\")"
      ]
    },
    {
      "cell_type": "markdown",
      "source": [
        "## Dummy Classifier: Remarks\n",
        "\n",
        "Above, I output a set of metrics for the test dataset, which includes accuracy, precision, recall, and F1-score. Accuracy for the test data is ~50%, as expected.\n",
        "\n",
        "Precision is the number of correctly-classified defaulters in the (test) dataset divided by the total number of defaulters predicted by the model. I previously reported that there are 22% defaulters in our dataset. Therefore, we expect `precision = (0.5x0.22)/0.5 = 0.22`, which we see in the results. The numerator reflects true positives (defaults) since random sampling will predict 50% positive and our expectation of true positives reflects the population proportion (i.e., 22%); the denominator is the predicted-positives from our random labeling, which is 50%.\n",
        "\n",
        "Recall is the number of correctly-classified defaulters divided by the total number of defaulters in the (test) dataset. We expect `recall = (0.5x0.22/0.22)`, which we see in the results.\n",
        "\n",
        "F1-score is `(2*0.22*0.5)/(0.22+0.5) = 0.31` (see the formula of F1-score), which is also reflected in the results.\n",
        "\n",
        "The macro average of a metric is the mean metric value for the labels 0 and 1, while the weighted average is the average weighted by the porportion of each label in the full dataset."
      ],
      "metadata": {
        "id": "TaQMvxEKZZCl"
      },
      "id": "TaQMvxEKZZCl"
    },
    {
      "cell_type": "markdown",
      "id": "0a177379-986b-4d7c-ae9b-9b540759d5b7",
      "metadata": {
        "id": "0a177379-986b-4d7c-ae9b-9b540759d5b7"
      },
      "source": [
        "# Logistic Regression\n",
        "\n",
        "I next try Logistic Regression to predict defaults. Data is preprocessed by standardizing features to zero mean and unit variance using `StandardScaler()` because features in some attributes had large variance relative to others. For the logistic regression algorithm, I used an L2 penalty because we have 30000 observations compared to 23 attributes, so I'm not looking to exclude attributes. I have also included the typical regularization step to address concerns of over-fitting.\n",
        "\n",
        "Since hyperparameters can have a large influence on outcomes, I used `LogisticRegressionCV` because it has built-in cross-validation to select the best value for the `C` hyperparameter, which inversely influences the strength of the regularization. I felt the default value of 5 was fine for the number of stratifications in cross-validation (i.e., the proportion of data in the validation set), as well as the default value of 10 for the number of `C` values to sample. I output the sampled `C` values and report the best `C` value (2.78) used in the final estimation.\n",
        "\n",
        "I then allow the algorithm to train and report a training accuracy of 0.81."
      ]
    },
    {
      "cell_type": "code",
      "execution_count": 38,
      "id": "04ce25d9-b3ef-4869-91d3-021d1991becd",
      "metadata": {
        "tags": [],
        "colab": {
          "base_uri": "https://localhost:8080/"
        },
        "id": "04ce25d9-b3ef-4869-91d3-021d1991becd",
        "outputId": "b3714677-0a37-487d-cc28-2b5e4d2a1960"
      },
      "outputs": [
        {
          "output_type": "stream",
          "name": "stdout",
          "text": [
            "Sampling C: [0.0001, 0.000774, 0.00599, 0.0464, 0.359, 2.78, 21.5, 167, 1.29e+03, 1e+04]\n",
            "Best C:      2.78\n",
            "\n",
            "Training Accuracy: 0.8113 \n",
            "\n",
            "Test Metrics:\n",
            "               precision    recall  f1-score   support\n",
            "\n",
            "           0     0.8151    0.9750    0.8880      4649\n",
            "           1     0.7358    0.2391    0.3609      1351\n",
            "\n",
            "    accuracy                         0.8093      6000\n",
            "   macro avg     0.7755    0.6071    0.6244      6000\n",
            "weighted avg     0.7973    0.8093    0.7693      6000\n",
            "\n"
          ]
        }
      ],
      "source": [
        "# split data\n",
        "# set balance_data to True to apply Synthetic Minority Over-sampling Technique to address imbalance of defaulter proportion in full dataset\n",
        "balance_data = False\n",
        "X_train_l, X_test_l, y_train_l, y_test_l = generate_balanced_data(X, y_true, balance_data)\n",
        "\n",
        "# preprocess data and train\n",
        "pipe_l = make_pipeline(StandardScaler(), LogisticRegressionCV(random_state=25)) # default: L2 penalty, Stratified 5-Fold for cross-validation\n",
        "pipe_l.fit(X_train_l, y_train_l)\n",
        "accuracy_train_l = pipe_l.score(X_train_l, y_train_l)\n",
        "\n",
        "# check C hyperparameter\n",
        "grab_log_reg = pipe_l.named_steps['logisticregressioncv']\n",
        "Cs_values = grab_log_reg.Cs_\n",
        "coefficients = grab_log_reg.coefs_paths_\n",
        "scores_C = grab_log_reg.scores_\n",
        "best_C = grab_log_reg.C_\n",
        "\n",
        "def sig_figs(x, sigs):\n",
        "    return \"{:.{p}g}\".format(x, p=sigs)\n",
        "C_vals_sampled = \", \".join(sig_figs(x, 3) for x in Cs_values)\n",
        "print(f\"Sampling C: [{C_vals_sampled}]\")\n",
        "print(f\"Best C:      {best_C[0]:0.2f}\\n\")\n",
        "print(f\"Training Accuracy: {accuracy_train_l:0.4f} \\n\")\n",
        "\n",
        "# test\n",
        "y_pred_l = pipe_l.predict(X_test_l)\n",
        "report_l = classification_report(y_test_l, y_pred_l, digits=4)\n",
        "print(f\"Test Metrics:\\n {report_l}\")"
      ]
    },
    {
      "cell_type": "markdown",
      "source": [
        "## Logistic Regression: Remarks\n",
        "\n",
        "Above I report metrics for the test dataset, where we see similar accuracy (0.80). Precision is reasonable at 0.74; however, recall (or sensitivity, in binary classification) is poor (0.24). This implies that the current Logistic Regression approach has a higher chance of missing true defaulters, which is undesirable for banks. The model could be further tuned in an attempt to improve performance."
      ],
      "metadata": {
        "id": "RExFF-yeV73z"
      },
      "id": "RExFF-yeV73z"
    },
    {
      "cell_type": "markdown",
      "id": "96f481c3-cea0-408b-a232-43254721de9f",
      "metadata": {
        "id": "96f481c3-cea0-408b-a232-43254721de9f"
      },
      "source": [
        "# Support Vector Classification (SVC)\n",
        "\n",
        "Another classic approach - Support Vector Machines (specifically SVC for this problem). Again, I'm interested in sampling multiple hyperparameter values and using cross-validation to identify the best set, where cross-validation is built in to `GridSearchCV`. I'm opting to compare a linear kernel and an rbf kernel for the transformation portion of SVM because linear is simple and rbf is commonly used. I'm testing different `C` values but opting to use default for `gamma` (kernel coefficient) because it is adaptable to the dataset, i.e., `1 / (n_features * average_variance_across_features)`.\n",
        "\n",
        "As in my Logistic Regression approach, I am also standardizing the features to zero mean and unit variance.\n",
        "\n",
        "I was curious whether applying principle component analysis (PCA) for dimensionality reduction would improve accuracy, so I decided to throw in PCA into my pipeline, where I am adding `n_components` (number of components to keep) to my list of hyperparameters to test. To select the values, I considered the list of attributes and felt that they naturally fell into 8 categories. Therefore, I am moving forward with testing `n_components = 8 and 23`, where 23 is the complete set of attributes.\n",
        "\n",
        "**Note**: Iteration information outputted below serve as a progress tracker."
      ]
    },
    {
      "cell_type": "code",
      "execution_count": 40,
      "id": "12df85f2-8ec0-43d8-8882-aeee12ff2a5c",
      "metadata": {
        "tags": [],
        "colab": {
          "base_uri": "https://localhost:8080/"
        },
        "id": "12df85f2-8ec0-43d8-8882-aeee12ff2a5c",
        "outputId": "646670db-2d78-477c-a84f-5dceb7e5a916"
      },
      "outputs": [
        {
          "output_type": "stream",
          "name": "stdout",
          "text": [
            "Fitting 5 folds for each of 8 candidates, totalling 40 fits\n",
            "[CV] END pca__n_components=8, svc__C=0.1, svc__kernel=linear; total time=   7.9s\n",
            "[CV] END pca__n_components=8, svc__C=0.1, svc__kernel=linear; total time=  11.7s\n",
            "[CV] END pca__n_components=8, svc__C=0.1, svc__kernel=linear; total time=   8.1s\n",
            "[CV] END pca__n_components=8, svc__C=0.1, svc__kernel=linear; total time=  12.0s\n",
            "[CV] END pca__n_components=8, svc__C=0.1, svc__kernel=linear; total time=   8.9s\n",
            "[CV] END ...pca__n_components=8, svc__C=0.1, svc__kernel=rbf; total time=  24.1s\n",
            "[CV] END ...pca__n_components=8, svc__C=0.1, svc__kernel=rbf; total time=  16.1s\n",
            "[CV] END ...pca__n_components=8, svc__C=0.1, svc__kernel=rbf; total time=  15.4s\n",
            "[CV] END ...pca__n_components=8, svc__C=0.1, svc__kernel=rbf; total time=  23.2s\n",
            "[CV] END ...pca__n_components=8, svc__C=0.1, svc__kernel=rbf; total time=  15.3s\n",
            "[CV] END ..pca__n_components=8, svc__C=1, svc__kernel=linear; total time=  20.9s\n",
            "[CV] END ..pca__n_components=8, svc__C=1, svc__kernel=linear; total time=  18.8s\n",
            "[CV] END ..pca__n_components=8, svc__C=1, svc__kernel=linear; total time=  19.5s\n",
            "[CV] END ..pca__n_components=8, svc__C=1, svc__kernel=linear; total time=  20.3s\n",
            "[CV] END ..pca__n_components=8, svc__C=1, svc__kernel=linear; total time=  19.7s\n",
            "[CV] END .....pca__n_components=8, svc__C=1, svc__kernel=rbf; total time=  19.7s\n",
            "[CV] END .....pca__n_components=8, svc__C=1, svc__kernel=rbf; total time=  20.6s\n",
            "[CV] END .....pca__n_components=8, svc__C=1, svc__kernel=rbf; total time=  18.9s\n",
            "[CV] END .....pca__n_components=8, svc__C=1, svc__kernel=rbf; total time=  18.7s\n",
            "[CV] END .....pca__n_components=8, svc__C=1, svc__kernel=rbf; total time=  18.4s\n",
            "[CV] END pca__n_components=23, svc__C=0.1, svc__kernel=linear; total time=  25.2s\n",
            "[CV] END pca__n_components=23, svc__C=0.1, svc__kernel=linear; total time=  20.4s\n",
            "[CV] END pca__n_components=23, svc__C=0.1, svc__kernel=linear; total time=  19.1s\n",
            "[CV] END pca__n_components=23, svc__C=0.1, svc__kernel=linear; total time=  17.5s\n",
            "[CV] END pca__n_components=23, svc__C=0.1, svc__kernel=linear; total time=  19.9s\n",
            "[CV] END ..pca__n_components=23, svc__C=0.1, svc__kernel=rbf; total time=  20.6s\n",
            "[CV] END ..pca__n_components=23, svc__C=0.1, svc__kernel=rbf; total time=  22.2s\n",
            "[CV] END ..pca__n_components=23, svc__C=0.1, svc__kernel=rbf; total time=  22.5s\n",
            "[CV] END ..pca__n_components=23, svc__C=0.1, svc__kernel=rbf; total time=  21.7s\n",
            "[CV] END ..pca__n_components=23, svc__C=0.1, svc__kernel=rbf; total time=  19.7s\n",
            "[CV] END .pca__n_components=23, svc__C=1, svc__kernel=linear; total time= 1.9min\n",
            "[CV] END .pca__n_components=23, svc__C=1, svc__kernel=linear; total time=  51.0s\n",
            "[CV] END .pca__n_components=23, svc__C=1, svc__kernel=linear; total time=  44.1s\n",
            "[CV] END .pca__n_components=23, svc__C=1, svc__kernel=linear; total time=  49.6s\n",
            "[CV] END .pca__n_components=23, svc__C=1, svc__kernel=linear; total time=  54.3s\n",
            "[CV] END ....pca__n_components=23, svc__C=1, svc__kernel=rbf; total time=  26.5s\n",
            "[CV] END ....pca__n_components=23, svc__C=1, svc__kernel=rbf; total time=  23.9s\n",
            "[CV] END ....pca__n_components=23, svc__C=1, svc__kernel=rbf; total time=  25.5s\n",
            "[CV] END ....pca__n_components=23, svc__C=1, svc__kernel=rbf; total time=  26.5s\n",
            "[CV] END ....pca__n_components=23, svc__C=1, svc__kernel=rbf; total time=  23.6s\n",
            "\n",
            "Best parameters: {'pca__n_components': 23, 'svc__C': 1, 'svc__kernel': 'rbf'}\n",
            "\n",
            "Training Accuracy: 0.8250 \n",
            "\n",
            "Test Metrics:\n",
            "               precision    recall  f1-score   support\n",
            "\n",
            "           0     0.8332    0.9615    0.8928      4649\n",
            "           1     0.7181    0.3375    0.4592      1351\n",
            "\n",
            "    accuracy                         0.8210      6000\n",
            "   macro avg     0.7756    0.6495    0.6760      6000\n",
            "weighted avg     0.8073    0.8210    0.7951      6000\n",
            "\n"
          ]
        }
      ],
      "source": [
        "# split data\n",
        "# set balance_data to True to apply Synthetic Minority Over-sampling Technique to address imbalance of defaulter proportion in full dataset\n",
        "balance_data = False\n",
        "X_train_s, X_test_s, y_train_s, y_test_s = train_test_split(X, y_true, test_size=0.2, random_state=25)\n",
        "\n",
        "# hyperparameter tuning and cross-validation\n",
        "hyperparam_sampling = {\n",
        "    'pca__n_components': [8, 23],\n",
        "    'svc__C': [0.1, 1],\n",
        "    'svc__kernel': ['linear', 'rbf']\n",
        "}\n",
        "pipe_s = make_pipeline(StandardScaler(), PCA(random_state=25), SVC(random_state=25))\n",
        "tuning_s = GridSearchCV(pipe_s, hyperparam_sampling, verbose=2) # default: Stratified 5-Fold for cross-validation\n",
        "\n",
        "# train\n",
        "tuning_s.fit(X_train_s, y_train_s)\n",
        "best_hyperparams_s = tuning_s.best_params_\n",
        "print(f\"\\nBest parameters: {best_hyperparams_s}\\n\")\n",
        "accuracy_train_s = tuning_s.score(X_train_s, y_train_s)\n",
        "print(f\"Training Accuracy: {accuracy_train_s:0.4f} \\n\")\n",
        "\n",
        "# test\n",
        "y_pred_s = tuning_s.predict(X_test_s)\n",
        "report_s = classification_report(y_test_s, y_pred_s, digits=4)\n",
        "print(f\"Test Metrics:\\n {report_s}\")"
      ]
    },
    {
      "cell_type": "markdown",
      "source": [
        "## SVC: Remarks\n",
        "\n",
        "Best hyperparameters are reported above, namely: n_components = 32, C = 1, and kernel = rbf. It turns out my PCA hypothesis did not pan out and reducing the dimensionality to 8 did not outperform using all of the attributes in the model. I'm not surprised that the rbf kernel outperformed linear.\n",
        "\n",
        "Overall performance of the SVC algorithm improved relative to Logistic Regression, with an accuracy of 0.82 and other metrics listed above."
      ],
      "metadata": {
        "id": "ejO6FUAFVtPJ"
      },
      "id": "ejO6FUAFVtPJ"
    },
    {
      "cell_type": "markdown",
      "id": "4f17bf1b-244b-436f-b894-20882d4ffea1",
      "metadata": {
        "id": "4f17bf1b-244b-436f-b894-20882d4ffea1"
      },
      "source": [
        "# Random Forest\n",
        "\n",
        "I went with Random Forest over Decision Trees as my last method because I assumed I have enough computing power for a Random Forest, which performs better than a Decision Tree with less for over-fitting. I chose to explore three hyperparameters: `n_estimators` (# of trees), `max_depth` (max distance between root node and leaf node), and `min_samples_split` (min # of samples to split a node), and I again used cross-validation built in to `GridSearchCV`. My choice for hyperparameter values was based on recommendations online and trial and error.\n",
        "\n",
        "**Note**: Iteration information outputted below serve as a progress tracker."
      ]
    },
    {
      "cell_type": "code",
      "execution_count": 43,
      "id": "77a2cc30-1d8d-48b2-bffd-e702ec62d320",
      "metadata": {
        "colab": {
          "base_uri": "https://localhost:8080/"
        },
        "id": "77a2cc30-1d8d-48b2-bffd-e702ec62d320",
        "outputId": "4d257680-a77e-45b6-e966-02054602ca77"
      },
      "outputs": [
        {
          "output_type": "stream",
          "name": "stdout",
          "text": [
            "Fitting 5 folds for each of 27 candidates, totalling 135 fits\n",
            "[CV] END .max_depth=10, min_samples_split=2, n_estimators=50; total time=   2.6s\n",
            "[CV] END .max_depth=10, min_samples_split=2, n_estimators=50; total time=   1.9s\n",
            "[CV] END .max_depth=10, min_samples_split=2, n_estimators=50; total time=   1.9s\n",
            "[CV] END .max_depth=10, min_samples_split=2, n_estimators=50; total time=   1.8s\n",
            "[CV] END .max_depth=10, min_samples_split=2, n_estimators=50; total time=   1.9s\n",
            "[CV] END max_depth=10, min_samples_split=2, n_estimators=100; total time=   4.4s\n",
            "[CV] END max_depth=10, min_samples_split=2, n_estimators=100; total time=   5.4s\n",
            "[CV] END max_depth=10, min_samples_split=2, n_estimators=100; total time=   3.9s\n",
            "[CV] END max_depth=10, min_samples_split=2, n_estimators=100; total time=   3.7s\n",
            "[CV] END max_depth=10, min_samples_split=2, n_estimators=100; total time=   4.0s\n",
            "[CV] END max_depth=10, min_samples_split=2, n_estimators=200; total time=   9.7s\n",
            "[CV] END max_depth=10, min_samples_split=2, n_estimators=200; total time=   7.4s\n",
            "[CV] END max_depth=10, min_samples_split=2, n_estimators=200; total time=   9.9s\n",
            "[CV] END max_depth=10, min_samples_split=2, n_estimators=200; total time=   7.4s\n",
            "[CV] END max_depth=10, min_samples_split=2, n_estimators=200; total time=   9.9s\n",
            "[CV] END .max_depth=10, min_samples_split=5, n_estimators=50; total time=   1.9s\n",
            "[CV] END .max_depth=10, min_samples_split=5, n_estimators=50; total time=   1.9s\n",
            "[CV] END .max_depth=10, min_samples_split=5, n_estimators=50; total time=   1.8s\n",
            "[CV] END .max_depth=10, min_samples_split=5, n_estimators=50; total time=   1.8s\n",
            "[CV] END .max_depth=10, min_samples_split=5, n_estimators=50; total time=   1.9s\n",
            "[CV] END max_depth=10, min_samples_split=5, n_estimators=100; total time=   5.2s\n",
            "[CV] END max_depth=10, min_samples_split=5, n_estimators=100; total time=   4.7s\n",
            "[CV] END max_depth=10, min_samples_split=5, n_estimators=100; total time=   3.7s\n",
            "[CV] END max_depth=10, min_samples_split=5, n_estimators=100; total time=   3.7s\n",
            "[CV] END max_depth=10, min_samples_split=5, n_estimators=100; total time=   4.8s\n",
            "[CV] END max_depth=10, min_samples_split=5, n_estimators=200; total time=   8.7s\n",
            "[CV] END max_depth=10, min_samples_split=5, n_estimators=200; total time=   8.1s\n",
            "[CV] END max_depth=10, min_samples_split=5, n_estimators=200; total time=   9.2s\n",
            "[CV] END max_depth=10, min_samples_split=5, n_estimators=200; total time=   7.7s\n",
            "[CV] END max_depth=10, min_samples_split=5, n_estimators=200; total time=   9.6s\n",
            "[CV] END max_depth=10, min_samples_split=10, n_estimators=50; total time=   1.8s\n",
            "[CV] END max_depth=10, min_samples_split=10, n_estimators=50; total time=   1.9s\n",
            "[CV] END max_depth=10, min_samples_split=10, n_estimators=50; total time=   1.8s\n",
            "[CV] END max_depth=10, min_samples_split=10, n_estimators=50; total time=   1.8s\n",
            "[CV] END max_depth=10, min_samples_split=10, n_estimators=50; total time=   2.6s\n",
            "[CV] END max_depth=10, min_samples_split=10, n_estimators=100; total time=   5.3s\n",
            "[CV] END max_depth=10, min_samples_split=10, n_estimators=100; total time=   3.9s\n",
            "[CV] END max_depth=10, min_samples_split=10, n_estimators=100; total time=   3.7s\n",
            "[CV] END max_depth=10, min_samples_split=10, n_estimators=100; total time=   4.1s\n",
            "[CV] END max_depth=10, min_samples_split=10, n_estimators=100; total time=   5.4s\n",
            "[CV] END max_depth=10, min_samples_split=10, n_estimators=200; total time=   8.4s\n",
            "[CV] END max_depth=10, min_samples_split=10, n_estimators=200; total time=   9.1s\n",
            "[CV] END max_depth=10, min_samples_split=10, n_estimators=200; total time=   8.1s\n",
            "[CV] END max_depth=10, min_samples_split=10, n_estimators=200; total time=   8.7s\n",
            "[CV] END max_depth=10, min_samples_split=10, n_estimators=200; total time=   8.5s\n",
            "[CV] END .max_depth=30, min_samples_split=2, n_estimators=50; total time=   3.2s\n",
            "[CV] END .max_depth=30, min_samples_split=2, n_estimators=50; total time=   3.6s\n",
            "[CV] END .max_depth=30, min_samples_split=2, n_estimators=50; total time=   4.5s\n",
            "[CV] END .max_depth=30, min_samples_split=2, n_estimators=50; total time=   3.8s\n",
            "[CV] END .max_depth=30, min_samples_split=2, n_estimators=50; total time=   3.1s\n",
            "[CV] END max_depth=30, min_samples_split=2, n_estimators=100; total time=   6.9s\n",
            "[CV] END max_depth=30, min_samples_split=2, n_estimators=100; total time=   8.3s\n",
            "[CV] END max_depth=30, min_samples_split=2, n_estimators=100; total time=   6.4s\n",
            "[CV] END max_depth=30, min_samples_split=2, n_estimators=100; total time=   8.3s\n",
            "[CV] END max_depth=30, min_samples_split=2, n_estimators=100; total time=   6.8s\n",
            "[CV] END max_depth=30, min_samples_split=2, n_estimators=200; total time=  15.1s\n",
            "[CV] END max_depth=30, min_samples_split=2, n_estimators=200; total time=  14.5s\n",
            "[CV] END max_depth=30, min_samples_split=2, n_estimators=200; total time=  13.8s\n",
            "[CV] END max_depth=30, min_samples_split=2, n_estimators=200; total time=  14.6s\n",
            "[CV] END max_depth=30, min_samples_split=2, n_estimators=200; total time=  24.5s\n",
            "[CV] END .max_depth=30, min_samples_split=5, n_estimators=50; total time=   7.7s\n",
            "[CV] END .max_depth=30, min_samples_split=5, n_estimators=50; total time=   3.5s\n",
            "[CV] END .max_depth=30, min_samples_split=5, n_estimators=50; total time=   3.1s\n",
            "[CV] END .max_depth=30, min_samples_split=5, n_estimators=50; total time=   3.6s\n",
            "[CV] END .max_depth=30, min_samples_split=5, n_estimators=50; total time=   4.9s\n",
            "[CV] END max_depth=30, min_samples_split=5, n_estimators=100; total time=   9.4s\n",
            "[CV] END max_depth=30, min_samples_split=5, n_estimators=100; total time=   7.6s\n",
            "[CV] END max_depth=30, min_samples_split=5, n_estimators=100; total time=   7.2s\n",
            "[CV] END max_depth=30, min_samples_split=5, n_estimators=100; total time=   6.2s\n",
            "[CV] END max_depth=30, min_samples_split=5, n_estimators=100; total time=   8.6s\n",
            "[CV] END max_depth=30, min_samples_split=5, n_estimators=200; total time=  13.7s\n",
            "[CV] END max_depth=30, min_samples_split=5, n_estimators=200; total time=  13.5s\n",
            "[CV] END max_depth=30, min_samples_split=5, n_estimators=200; total time=  18.4s\n",
            "[CV] END max_depth=30, min_samples_split=5, n_estimators=200; total time=  19.6s\n",
            "[CV] END max_depth=30, min_samples_split=5, n_estimators=200; total time=  18.3s\n",
            "[CV] END max_depth=30, min_samples_split=10, n_estimators=50; total time=   4.3s\n",
            "[CV] END max_depth=30, min_samples_split=10, n_estimators=50; total time=   4.4s\n",
            "[CV] END max_depth=30, min_samples_split=10, n_estimators=50; total time=   3.6s\n",
            "[CV] END max_depth=30, min_samples_split=10, n_estimators=50; total time=   4.3s\n",
            "[CV] END max_depth=30, min_samples_split=10, n_estimators=50; total time=   6.7s\n",
            "[CV] END max_depth=30, min_samples_split=10, n_estimators=100; total time=   8.1s\n",
            "[CV] END max_depth=30, min_samples_split=10, n_estimators=100; total time=   7.5s\n",
            "[CV] END max_depth=30, min_samples_split=10, n_estimators=100; total time=  10.5s\n",
            "[CV] END max_depth=30, min_samples_split=10, n_estimators=100; total time=   7.1s\n",
            "[CV] END max_depth=30, min_samples_split=10, n_estimators=100; total time=   8.3s\n",
            "[CV] END max_depth=30, min_samples_split=10, n_estimators=200; total time=  14.3s\n",
            "[CV] END max_depth=30, min_samples_split=10, n_estimators=200; total time=  19.5s\n",
            "[CV] END max_depth=30, min_samples_split=10, n_estimators=200; total time=  13.0s\n",
            "[CV] END max_depth=30, min_samples_split=10, n_estimators=200; total time=  14.5s\n",
            "[CV] END max_depth=30, min_samples_split=10, n_estimators=200; total time=  17.7s\n",
            "[CV] END .max_depth=50, min_samples_split=2, n_estimators=50; total time=   3.9s\n",
            "[CV] END .max_depth=50, min_samples_split=2, n_estimators=50; total time=   5.6s\n",
            "[CV] END .max_depth=50, min_samples_split=2, n_estimators=50; total time=   6.4s\n",
            "[CV] END .max_depth=50, min_samples_split=2, n_estimators=50; total time=   3.3s\n",
            "[CV] END .max_depth=50, min_samples_split=2, n_estimators=50; total time=   3.2s\n",
            "[CV] END max_depth=50, min_samples_split=2, n_estimators=100; total time=   8.7s\n",
            "[CV] END max_depth=50, min_samples_split=2, n_estimators=100; total time=   6.4s\n",
            "[CV] END max_depth=50, min_samples_split=2, n_estimators=100; total time=   7.3s\n",
            "[CV] END max_depth=50, min_samples_split=2, n_estimators=100; total time=   7.9s\n",
            "[CV] END max_depth=50, min_samples_split=2, n_estimators=100; total time=   9.9s\n",
            "[CV] END max_depth=50, min_samples_split=2, n_estimators=200; total time=  18.7s\n",
            "[CV] END max_depth=50, min_samples_split=2, n_estimators=200; total time=  19.1s\n",
            "[CV] END max_depth=50, min_samples_split=2, n_estimators=200; total time=  19.3s\n",
            "[CV] END max_depth=50, min_samples_split=2, n_estimators=200; total time=  19.0s\n",
            "[CV] END max_depth=50, min_samples_split=2, n_estimators=200; total time=  21.5s\n",
            "[CV] END .max_depth=50, min_samples_split=5, n_estimators=50; total time=   3.7s\n",
            "[CV] END .max_depth=50, min_samples_split=5, n_estimators=50; total time=   3.6s\n",
            "[CV] END .max_depth=50, min_samples_split=5, n_estimators=50; total time=   3.5s\n",
            "[CV] END .max_depth=50, min_samples_split=5, n_estimators=50; total time=   4.1s\n",
            "[CV] END .max_depth=50, min_samples_split=5, n_estimators=50; total time=   4.4s\n",
            "[CV] END max_depth=50, min_samples_split=5, n_estimators=100; total time=   7.5s\n",
            "[CV] END max_depth=50, min_samples_split=5, n_estimators=100; total time=  10.6s\n",
            "[CV] END max_depth=50, min_samples_split=5, n_estimators=100; total time=   8.4s\n",
            "[CV] END max_depth=50, min_samples_split=5, n_estimators=100; total time=   9.4s\n",
            "[CV] END max_depth=50, min_samples_split=5, n_estimators=100; total time=   6.8s\n",
            "[CV] END max_depth=50, min_samples_split=5, n_estimators=200; total time=  17.6s\n",
            "[CV] END max_depth=50, min_samples_split=5, n_estimators=200; total time=  18.5s\n",
            "[CV] END max_depth=50, min_samples_split=5, n_estimators=200; total time=  17.4s\n",
            "[CV] END max_depth=50, min_samples_split=5, n_estimators=200; total time=  17.8s\n",
            "[CV] END max_depth=50, min_samples_split=5, n_estimators=200; total time=  14.5s\n",
            "[CV] END max_depth=50, min_samples_split=10, n_estimators=50; total time=   3.4s\n",
            "[CV] END max_depth=50, min_samples_split=10, n_estimators=50; total time=   3.0s\n",
            "[CV] END max_depth=50, min_samples_split=10, n_estimators=50; total time=   3.0s\n",
            "[CV] END max_depth=50, min_samples_split=10, n_estimators=50; total time=   3.7s\n",
            "[CV] END max_depth=50, min_samples_split=10, n_estimators=50; total time=   4.3s\n",
            "[CV] END max_depth=50, min_samples_split=10, n_estimators=100; total time=   6.8s\n",
            "[CV] END max_depth=50, min_samples_split=10, n_estimators=100; total time=   7.6s\n",
            "[CV] END max_depth=50, min_samples_split=10, n_estimators=100; total time=  10.3s\n",
            "[CV] END max_depth=50, min_samples_split=10, n_estimators=100; total time=   6.3s\n",
            "[CV] END max_depth=50, min_samples_split=10, n_estimators=100; total time=  10.3s\n",
            "[CV] END max_depth=50, min_samples_split=10, n_estimators=200; total time=  16.3s\n",
            "[CV] END max_depth=50, min_samples_split=10, n_estimators=200; total time=  13.9s\n",
            "[CV] END max_depth=50, min_samples_split=10, n_estimators=200; total time=  13.9s\n",
            "[CV] END max_depth=50, min_samples_split=10, n_estimators=200; total time=  18.8s\n",
            "[CV] END max_depth=50, min_samples_split=10, n_estimators=200; total time=  18.1s\n",
            "\n",
            "Best parameters: {'max_depth': 10, 'min_samples_split': 2, 'n_estimators': 200}\n",
            "\n",
            "Training Accuracy: 0.8571 \n",
            "\n",
            "Test Metrics:\n",
            "               precision    recall  f1-score   support\n",
            "\n",
            "           0     0.8356    0.9557    0.8916      4649\n",
            "           1     0.6984    0.3531    0.4690      1351\n",
            "\n",
            "    accuracy                         0.8200      6000\n",
            "   macro avg     0.7670    0.6544    0.6803      6000\n",
            "weighted avg     0.8047    0.8200    0.7965      6000\n",
            "\n"
          ]
        }
      ],
      "source": [
        "# split data\n",
        "# set balance_data to True to apply Synthetic Minority Over-sampling Technique to address imbalance of defaulter proportion in full dataset\n",
        "balance_data = False\n",
        "X_train_r, X_test_r, y_train_r, y_test_r = train_test_split(X, y_true, test_size=0.2, random_state=25)\n",
        "\n",
        "# hyperparameter tuning and cross-validation\n",
        "hyperparam_sampling = {\n",
        "    'n_estimators': [50, 100, 200],\n",
        "    'max_depth': [10, 30, 50],\n",
        "    'min_samples_split': [2, 5, 10]\n",
        "}\n",
        "tuning_r = GridSearchCV(estimator=RandomForestClassifier(random_state=25), param_grid=hyperparam_sampling, verbose=2) # default: Stratified 5-Fold for cross-validation\n",
        "\n",
        "# train\n",
        "tuning_r.fit(X_train_r, y_train_r)\n",
        "best_hyperparams_r = tuning_r.best_params_\n",
        "print(f\"\\nBest parameters: {best_hyperparams_r}\\n\")\n",
        "accuracy_train_r = tuning_r.score(X_train_r, y_train_r)\n",
        "print(f\"Training Accuracy: {accuracy_train_r:0.4f} \\n\")\n",
        "\n",
        "# test\n",
        "y_pred_r = tuning_r.predict(X_test_r)\n",
        "report_r = classification_report(y_test_r, y_pred_r, digits=4)\n",
        "print(f\"Test Metrics:\\n {report_r}\")"
      ]
    },
    {
      "cell_type": "markdown",
      "source": [
        "## Random Forest: Remarks\n",
        "\n",
        "The best parameters were `n_estimators` = 200, `max_depth` = 10, `min_samples_split` = 2. It makes sense that a greater number of trees performs better, and a max_depth of 10 likely minimized over-fitting. Accuracy was again reasonable, at 0.82, with other metrics listed above."
      ],
      "metadata": {
        "id": "oW8CgrOyasQs"
      },
      "id": "oW8CgrOyasQs"
    },
    {
      "cell_type": "markdown",
      "source": [
        "# Comparing Methods\n",
        "\n",
        "Below are two plots (with and without data balancing) comparing 5 metrics for all four ML methods."
      ],
      "metadata": {
        "id": "uHKWeoJ7h1lt"
      },
      "id": "uHKWeoJ7h1lt"
    },
    {
      "cell_type": "code",
      "source": [
        "# plot histogram of metrics\n",
        "metrics = ['Training\\nAccuracy', 'Test\\nAccuracy', 'Precision', 'Recall', 'F1-Score']\n",
        "# original run\n",
        "dum = [0.4966, 0.5058, 0.2359, 0.5337, 0.3272]\n",
        "logr = [0.8113, 0.8093, 0.7358, 0.2391, 0.3609]\n",
        "svc = [0.8250, 0.8210, 0.7181, 0.3375, 0.4592]\n",
        "randf = [0.8571, 0.8200, 0.6984, 0.3531, 0.4690]\n",
        "# adjusted for data imbalance\n",
        "logr_a = [0.7170, 0.6927, 0.3832, 0.5988, 0.4674]\n",
        "svc_a = [0.7734, 0.7363, 0.4364, 0.5870, 0.5006]\n",
        "randf_a = [0.9992, 0.7835, 0.5202, 0.4952, 0.5074]\n",
        "\n",
        "x = np.arange(len(metrics))\n",
        "bar_width = 0.2\n",
        "fig, axs = plt.subplots(1, 2, figsize=(15, 5))\n",
        "cols = ['#D291BC', '#6D7993', '#967BB6', '#A89F91', '#75B9BE']\n",
        "\n",
        "r1 = np.arange(len(dum))\n",
        "r2 = [x + bar_width for x in r1]\n",
        "r3 = [x + bar_width for x in r2]\n",
        "r4 = [x + bar_width for x in r3]\n",
        "\n",
        "axs[0].bar(r1, dum, width=bar_width, label='Dummy Classifier', color=cols[0])\n",
        "axs[0].bar(r2, logr, width=bar_width, label='Logistic Regression', color=cols[1])\n",
        "axs[0].bar(r3, svc, width=bar_width, label='SVC', color=cols[2])\n",
        "axs[0].bar(r4, randf, width=bar_width, label='Random Forest', color=cols[3])\n",
        "\n",
        "axs[0].set_xlabel('Metrics', fontsize=16)\n",
        "axs[0].set_ylabel('Value', fontsize=16)\n",
        "axs[0].set_title('Comparison of Classification Metrics\\nOriginal Output', fontsize=16)\n",
        "axs[0].set_xticks([r + bar_width for r in range(len(dum))], metrics)\n",
        "axs[0].legend(bbox_to_anchor=(1.05, 1), loc='upper left')\n",
        "\n",
        "axs[1].bar(r1, dum, width=bar_width, label='Dummy Classifier', color=cols[0])\n",
        "axs[1].bar(r2, logr_a, width=bar_width, label='Logistic Regression', color=cols[1])\n",
        "axs[1].bar(r3, svc_a, width=bar_width, label='SVC', color=cols[2])\n",
        "axs[1].bar(r4, randf_a, width=bar_width, label='Random Forest', color=cols[3])\n",
        "\n",
        "axs[1].set_xlabel('Metrics', fontsize=16)\n",
        "axs[1].set_ylabel('Value', fontsize=16)\n",
        "axs[1].set_title('Comparison of Classification Metrics\\nAdjusting for Data Imbalance', fontsize=16)\n",
        "axs[1].set_xticks([r + bar_width for r in range(len(dum))], metrics)\n",
        "\n",
        "fig.tight_layout()\n",
        "\n",
        "plt.show()"
      ],
      "metadata": {
        "colab": {
          "base_uri": "https://localhost:8080/",
          "height": 527
        },
        "id": "6RdADA-2iFJ_",
        "outputId": "a8e245ec-d032-4ce8-a73a-2fe5fd1040ff"
      },
      "id": "6RdADA-2iFJ_",
      "execution_count": 45,
      "outputs": [
        {
          "output_type": "display_data",
          "data": {
            "text/plain": [
              "<Figure size 1500x500 with 2 Axes>"
            ],
            "image/png": "[encoded data removed]"
          },
          "metadata": {}
        }
      ]
    },
    {
      "cell_type": "markdown",
      "source": [
        "# Interpretting Results\n",
        "\n",
        "### Original Output (left)\n",
        "In the plots above, the Dummy Classifier serves as our baseline by which to compare the other three primary classifiers. We see that all primary methods achieved around 80% accuracy, and similarity between training and test accuracy suggests over-fitting was not an issue. Precision was also reasonable, hovering around 70% for the primary methods. The recall metric, however, was worse for all primary classifiers compared to baseline. This result motivated the exploration into balancing the data.\n",
        "\n",
        "### Adjusting for Data Imbalance (right)\n",
        "After balancing the data for the primary classifiers, I immediately notice that Random Forest has a training accuracy close to 1, while the test accuracy is close to 0.8. This discrepancy suggests there was an issue with over-fitting. For Random Forest, the best parameters were: `n_estimators = 200`, `max_depth = 30`, `min_samples_split = 2`. A larger depth may contribute to over-fitting.\n",
        "\n",
        "Overall, however, we do see an improvement in recall for all primary methods at the expense of decreased accuracy, which likely reflects a minimization of bias. Despite having the largest accuracy, Random Forest has the lowest recall, even relative to the dummy classifier. Since banks may prefer to prioritize recall over accuracy (to ensure that all would-be defaulters are identified), I may prefer SVC over Random Forest for this task."
      ],
      "metadata": {
        "id": "GMnazg8-Fu4v"
      },
      "id": "GMnazg8-Fu4v"
    },
    {
      "cell_type": "markdown",
      "id": "0087f5aa-1480-4a6d-a489-f3e2e5539d23",
      "metadata": {
        "id": "0087f5aa-1480-4a6d-a489-f3e2e5539d23"
      },
      "source": [
        "# Final Remarks\n",
        "\n",
        "If my aim were to continue searching for better classification, I could dive further into the weeds by exploring colinearity of attributes, additional dimensionality reduction, etc. for the methods above. I could also consider additional preprocessing steps, like normalizing `BILL_AMT#` by `LIMIT_BAL`. With more time, I would like to explore the performance of additional machine learning algorithms.  I have experience with clustering algorithms (e.g., K-means, HDBSCAN, tSNE), so I would start there.\n",
        "\n",
        "To test for statistical significance, I would run each method 10 times and perform a one-way ANOVA on metric data across methods.\n",
        "\n"
      ]
    }
  ],
  "metadata": {
    "kernelspec": {
      "display_name": "Python 3",
      "name": "python3"
    },
    "language_info": {
      "codemirror_mode": {
        "name": "ipython",
        "version": 3
      },
      "file_extension": ".py",
      "mimetype": "text/x-python",
      "name": "python",
      "nbconvert_exporter": "python",
      "pygments_lexer": "ipython3",
      "version": "3.10.12"
    },
    "colab": {
      "provenance": []
    },
    "accelerator": "TPU"
  },
  "nbformat": 4,
  "nbformat_minor": 5
}